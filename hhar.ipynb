{
  "nbformat": 4,
  "nbformat_minor": 0,
  "metadata": {
    "colab": {
      "name": "projectMain.ipynb",
      "provenance": [],
      "collapsed_sections": [],
      "machine_shape": "hm"
    },
    "kernelspec": {
      "name": "python3",
      "display_name": "Python 3"
    },
    "accelerator": "GPU"
  },
  "cells": [
    {
      "cell_type": "code",
      "metadata": {
        "id": "SOq01gK-RXkt",
        "colab": {
          "base_uri": "https://localhost:8080/",
          "height": 146
        },
        "outputId": "4665ab66-e645-48e2-8bf7-2c9e6332d896"
      },
      "source": [
        "from google.colab import drive\n",
        "drive.mount('/content/drive')\n",
        "%cd '/content/drive/My Drive/RT Project/'\n",
        "import pandas as pd\n",
        "data1 = pd.read_csv('data/Phones_accelerometer.csv')"
      ],
      "execution_count": null,
      "outputs": [
        {
          "output_type": "stream",
          "text": [
            "Go to this URL in a browser: https://accounts.google.com/o/oauth2/auth?client_id=947318989803-6bn6qk8qdgf4n4g3pfee6491hc0brc4i.apps.googleusercontent.com&redirect_uri=urn%3aietf%3awg%3aoauth%3a2.0%3aoob&response_type=code&scope=email%20https%3a%2f%2fwww.googleapis.com%2fauth%2fdocs.test%20https%3a%2f%2fwww.googleapis.com%2fauth%2fdrive%20https%3a%2f%2fwww.googleapis.com%2fauth%2fdrive.photos.readonly%20https%3a%2f%2fwww.googleapis.com%2fauth%2fpeopleapi.readonly\n",
            "\n",
            "Enter your authorization code:\n",
            "··········\n",
            "Mounted at /content/drive\n",
            "/content/drive/My Drive/RT Project\n"
          ],
          "name": "stdout"
        }
      ]
    },
    {
      "cell_type": "code",
      "metadata": {
        "id": "a8d1JLKNFRCp"
      },
      "source": [
        "import torch\n",
        "from torch.autograd import Variable\n",
        "import torch.nn as nn\n",
        "import torch.nn.functional as F\n",
        "import torch.optim as optim\n",
        "from torchvision import datasets, transforms\n",
        "import numpy as np\n",
        "from torch.utils.data.sampler import SubsetRandomSampler\n",
        "from sklearn.preprocessing import LabelEncoder\n",
        "from pylab import rcParams\n",
        "from sklearn.metrics import confusion_matrix\n",
        "from models import FullyConnectedNetwork,RecursiveNeuralNetwork"
      ],
      "execution_count": null,
      "outputs": []
    },
    {
      "cell_type": "markdown",
      "metadata": {
        "id": "czWvseWOA5OM"
      },
      "source": [
        "# Preprocess Data"
      ]
    },
    {
      "cell_type": "code",
      "metadata": {
        "id": "xjiyImscGy38"
      },
      "source": [
        "def downSampleData(dataset, downsamplesize=100000):\n",
        "  dataset = np.asarray(dataset)\n",
        "  downSizeFeatureDatas = []\n",
        "  yValue = ['bike','sit','stairsdown','stairsup','stand','walk']\n",
        "  for output in yValue:\n",
        "    typeIndex = np.where(dataset[:,4]==output)[0]\n",
        "    downSizeFeatureIndex = np.random.choice(typeIndex, size=downsamplesize, replace=False)\n",
        "    downSizeFeatureData = dataset[downSizeFeatureIndex]\n",
        "    downSizeFeatureDatas.append(downSizeFeatureData)\n",
        "  dataDown = np.concatenate((downSizeFeatureDatas[0],downSizeFeatureDatas[1],downSizeFeatureDatas[2],downSizeFeatureDatas[3],downSizeFeatureDatas[4],downSizeFeatureDatas[5]),axis=0)\n",
        "  target = dataDown[:,4]\n",
        "  feature = dataDown[:,0:3]\n",
        "\n",
        "  for i in range(len(target)):\n",
        "    target[i] = str(target[i])\n",
        "  enc = LabelEncoder().fit(target)\n",
        "  target = enc.transform(target)\n",
        "\n",
        "  #to add userdetails to dataset\n",
        "  userDetails = dataDown[:,3]\n",
        "  for i in range(len(userDetails)):\n",
        "    userDetails[i] = str(userDetails[i])\n",
        "  userEnc = LabelEncoder().fit(userDetails)\n",
        "  userDetails = userEnc.transform(userDetails)\n",
        "\n",
        "  dataDown = np.concatenate((feature,userDetails[:,None]),axis=1)\n",
        "  dataDown = np.concatenate((dataDown,target[:,None]),axis=1)\n",
        "  return dataDown,target,enc.classes_\n"
      ],
      "execution_count": null,
      "outputs": []
    },
    {
      "cell_type": "code",
      "metadata": {
        "id": "nypxjT9CAkWX"
      },
      "source": [
        "def preProcessData(processData,down_size):\n",
        "  processData = processData.drop(labels = ['Arrival_Time','Creation_Time','Index', 'Model', 'Device'], axis=1)\n",
        "  to_drop = ['null']\t#To drop the null values from both data1 and data2\n",
        "  processData = processData[~processData['gt'].isin(to_drop)]\n",
        "  processData = processData.dropna()\n",
        "  processData = processData.reset_index(drop=True)\n",
        "  yData = processData['gt']\n",
        "  dataDown = downSampleData(processData,100000)\n",
        "  return dataDown\n"
      ],
      "execution_count": null,
      "outputs": []
    },
    {
      "cell_type": "markdown",
      "metadata": {
        "id": "W6pL6rZB5CCj"
      },
      "source": [
        "# Down Sample Data"
      ]
    },
    {
      "cell_type": "code",
      "metadata": {
        "id": "2_XVTgxlJByC"
      },
      "source": [
        "downSampledData,yData,yDataLabels = preProcessData(data1,100000)"
      ],
      "execution_count": null,
      "outputs": []
    },
    {
      "cell_type": "markdown",
      "metadata": {
        "id": "93E6lICD7EqT"
      },
      "source": [
        "# Train and Test Split"
      ]
    },
    {
      "cell_type": "code",
      "metadata": {
        "id": "BCgXklQlR21l"
      },
      "source": [
        "batch_size = 100\n",
        "test_split = .2\n",
        "shuffle_dataset = True\n",
        "random_seed= 42\n",
        "\n",
        "# Creating data indices for training and validation splits:\n",
        "dataset_size = len(downSampledData)\n",
        "indices = list(range(dataset_size))\n",
        "split = int(np.floor(test_split * dataset_size))\n",
        "if shuffle_dataset :\n",
        "    np.random.seed(random_seed)\n",
        "    np.random.shuffle(indices)\n",
        "train_indices, test_indices = indices[split:], indices[:split]\n",
        "\n",
        "# Creating PT data samplers and loaders:\n",
        "train_sampler = SubsetRandomSampler(train_indices)\n",
        "valid_sampler = SubsetRandomSampler(test_indices)\n",
        "\n",
        "downSampledData=downSampledData.astype(float)\n",
        "downSampledData = torch.from_numpy(downSampledData).float()\n",
        "\n",
        "\n",
        "train_loader = torch.utils.data.DataLoader(downSampledData,batch_size=batch_size,sampler=train_sampler)\n",
        "test_loader = torch.utils.data.DataLoader(downSampledData, batch_size=batch_size,sampler=valid_sampler)"
      ],
      "execution_count": null,
      "outputs": []
    },
    {
      "cell_type": "markdown",
      "metadata": {
        "id": "ewLywwOJAVvj"
      },
      "source": [
        "# Fully Connected Network"
      ]
    },
    {
      "cell_type": "code",
      "metadata": {
        "id": "Kr8JZkgbDtpc"
      },
      "source": [
        "noEpoch = 50\n",
        "noInput = downSampledData.shape[1]-1\n",
        "fnn = FullyConnectedNetwork(noEpoch,noInput)"
      ],
      "execution_count": null,
      "outputs": []
    },
    {
      "cell_type": "markdown",
      "metadata": {
        "id": "SgJRcCJDDbn2"
      },
      "source": [
        "## Train and Test Neural Network for different values of epoch"
      ]
    },
    {
      "cell_type": "markdown",
      "metadata": {
        "id": "XW6lb326HSCZ"
      },
      "source": [
        "**Hyper Parameters**\n",
        "\n",
        "1.   No of layers = 6\n",
        "2.   BatchSize = 100\n",
        "3.   Epoch = 0 to 50\n",
        "4.   Learning Rate = 0.001"
      ]
    },
    {
      "cell_type": "code",
      "metadata": {
        "id": "IaQC3AAPDxZ9",
        "colab": {
          "base_uri": "https://localhost:8080/",
          "height": 1000
        },
        "outputId": "86854eee-d1f4-480d-b77e-bbc6819a1466"
      },
      "source": [
        "trainAccuracy,testAccuracy = fnn.train(train_loader,test_loader)"
      ],
      "execution_count": null,
      "outputs": [
        {
          "output_type": "stream",
          "text": [
            "Train Epoch: 0 [0/600000 (0%)]\tLoss: 1.805050\n",
            "Train Epoch: 0 [100000/600000 (21%)]\tLoss: 1.512992\n",
            "Train Epoch: 0 [200000/600000 (42%)]\tLoss: 1.466309\n",
            "Train Epoch: 0 [300000/600000 (62%)]\tLoss: 1.345182\n",
            "Train Epoch: 0 [400000/600000 (83%)]\tLoss: 1.291305\n",
            "Test Accuracy: 0.40970416666666665\n",
            "\n",
            "Test set: Average loss: 0.0000,\u001b[1m \u001b[4m Accuracy:\u001b[0m 53826/120000 (45%)\n",
            "\n",
            "Train Epoch: 1 [0/600000 (0%)]\tLoss: 1.305027\n",
            "Train Epoch: 1 [100000/600000 (21%)]\tLoss: 1.228406\n",
            "Train Epoch: 1 [200000/600000 (42%)]\tLoss: 1.207340\n",
            "Train Epoch: 1 [300000/600000 (62%)]\tLoss: 1.093790\n",
            "Train Epoch: 1 [400000/600000 (83%)]\tLoss: 1.049381\n",
            "Test Accuracy: 0.5162395833333333\n",
            "\n",
            "Test set: Average loss: 0.0000,\u001b[1m \u001b[4m Accuracy:\u001b[0m 64465/120000 (54%)\n",
            "\n",
            "Train Epoch: 2 [0/600000 (0%)]\tLoss: 0.989057\n",
            "Train Epoch: 2 [100000/600000 (21%)]\tLoss: 1.005652\n",
            "Train Epoch: 2 [200000/600000 (42%)]\tLoss: 0.980941\n",
            "Train Epoch: 2 [300000/600000 (62%)]\tLoss: 1.023527\n",
            "Train Epoch: 2 [400000/600000 (83%)]\tLoss: 0.989837\n",
            "Test Accuracy: 0.5670708333333333\n",
            "\n",
            "Test set: Average loss: 0.0000,\u001b[1m \u001b[4m Accuracy:\u001b[0m 69383/120000 (58%)\n",
            "\n",
            "Train Epoch: 3 [0/600000 (0%)]\tLoss: 0.767070\n",
            "Train Epoch: 3 [100000/600000 (21%)]\tLoss: 0.899349\n",
            "Train Epoch: 3 [200000/600000 (42%)]\tLoss: 1.068847\n",
            "Train Epoch: 3 [300000/600000 (62%)]\tLoss: 1.025502\n",
            "Train Epoch: 3 [400000/600000 (83%)]\tLoss: 0.892641\n",
            "Test Accuracy: 0.5941083333333333\n",
            "\n",
            "Test set: Average loss: 0.0000,\u001b[1m \u001b[4m Accuracy:\u001b[0m 74872/120000 (62%)\n",
            "\n",
            "Train Epoch: 4 [0/600000 (0%)]\tLoss: 0.917272\n",
            "Train Epoch: 4 [100000/600000 (21%)]\tLoss: 0.895088\n",
            "Train Epoch: 4 [200000/600000 (42%)]\tLoss: 0.844829\n",
            "Train Epoch: 4 [300000/600000 (62%)]\tLoss: 0.908021\n",
            "Train Epoch: 4 [400000/600000 (83%)]\tLoss: 0.813069\n",
            "Test Accuracy: 0.6318979166666666\n",
            "\n",
            "Test set: Average loss: 0.0000,\u001b[1m \u001b[4m Accuracy:\u001b[0m 77581/120000 (65%)\n",
            "\n",
            "Train Epoch: 5 [0/600000 (0%)]\tLoss: 0.767272\n",
            "Train Epoch: 5 [100000/600000 (21%)]\tLoss: 0.782568\n",
            "Train Epoch: 5 [200000/600000 (42%)]\tLoss: 0.662719\n",
            "Train Epoch: 5 [300000/600000 (62%)]\tLoss: 0.852140\n",
            "Train Epoch: 5 [400000/600000 (83%)]\tLoss: 0.897931\n",
            "Test Accuracy: 0.6463041666666667\n",
            "\n",
            "Test set: Average loss: 0.0000,\u001b[1m \u001b[4m Accuracy:\u001b[0m 77977/120000 (65%)\n",
            "\n",
            "Train Epoch: 6 [0/600000 (0%)]\tLoss: 0.707314\n",
            "Train Epoch: 6 [100000/600000 (21%)]\tLoss: 0.880643\n",
            "Train Epoch: 6 [200000/600000 (42%)]\tLoss: 0.928378\n",
            "Train Epoch: 6 [300000/600000 (62%)]\tLoss: 0.878695\n",
            "Train Epoch: 6 [400000/600000 (83%)]\tLoss: 0.805069\n",
            "Test Accuracy: 0.6546208333333333\n",
            "\n",
            "Test set: Average loss: 0.0000,\u001b[1m \u001b[4m Accuracy:\u001b[0m 79451/120000 (66%)\n",
            "\n",
            "Train Epoch: 7 [0/600000 (0%)]\tLoss: 0.849382\n",
            "Train Epoch: 7 [100000/600000 (21%)]\tLoss: 0.792858\n",
            "Train Epoch: 7 [200000/600000 (42%)]\tLoss: 0.823196\n",
            "Train Epoch: 7 [300000/600000 (62%)]\tLoss: 0.694065\n",
            "Train Epoch: 7 [400000/600000 (83%)]\tLoss: 0.667163\n",
            "Test Accuracy: 0.6641979166666667\n",
            "\n",
            "Test set: Average loss: 0.0000,\u001b[1m \u001b[4m Accuracy:\u001b[0m 80611/120000 (67%)\n",
            "\n",
            "Train Epoch: 8 [0/600000 (0%)]\tLoss: 0.823152\n",
            "Train Epoch: 8 [100000/600000 (21%)]\tLoss: 0.778084\n",
            "Train Epoch: 8 [200000/600000 (42%)]\tLoss: 0.766420\n",
            "Train Epoch: 8 [300000/600000 (62%)]\tLoss: 0.928825\n",
            "Train Epoch: 8 [400000/600000 (83%)]\tLoss: 0.723698\n",
            "Test Accuracy: 0.6699958333333333\n",
            "\n",
            "Test set: Average loss: 0.0000,\u001b[1m \u001b[4m Accuracy:\u001b[0m 81067/120000 (68%)\n",
            "\n",
            "Train Epoch: 9 [0/600000 (0%)]\tLoss: 0.805861\n",
            "Train Epoch: 9 [100000/600000 (21%)]\tLoss: 0.845964\n",
            "Train Epoch: 9 [200000/600000 (42%)]\tLoss: 0.682283\n",
            "Train Epoch: 9 [300000/600000 (62%)]\tLoss: 0.762451\n",
            "Train Epoch: 9 [400000/600000 (83%)]\tLoss: 0.755270\n",
            "Test Accuracy: 0.677\n",
            "\n",
            "Test set: Average loss: 0.0000,\u001b[1m \u001b[4m Accuracy:\u001b[0m 81408/120000 (68%)\n",
            "\n",
            "Train Epoch: 10 [0/600000 (0%)]\tLoss: 0.688152\n",
            "Train Epoch: 10 [100000/600000 (21%)]\tLoss: 0.607333\n",
            "Train Epoch: 10 [200000/600000 (42%)]\tLoss: 0.688520\n",
            "Train Epoch: 10 [300000/600000 (62%)]\tLoss: 0.717567\n",
            "Train Epoch: 10 [400000/600000 (83%)]\tLoss: 0.729224\n",
            "Test Accuracy: 0.68229375\n",
            "\n",
            "Test set: Average loss: 0.0000,\u001b[1m \u001b[4m Accuracy:\u001b[0m 82205/120000 (69%)\n",
            "\n",
            "Train Epoch: 11 [0/600000 (0%)]\tLoss: 0.750194\n",
            "Train Epoch: 11 [100000/600000 (21%)]\tLoss: 0.810782\n",
            "Train Epoch: 11 [200000/600000 (42%)]\tLoss: 0.714773\n",
            "Train Epoch: 11 [300000/600000 (62%)]\tLoss: 0.748552\n",
            "Train Epoch: 11 [400000/600000 (83%)]\tLoss: 0.716937\n",
            "Test Accuracy: 0.6849395833333334\n",
            "\n",
            "Test set: Average loss: 0.0000,\u001b[1m \u001b[4m Accuracy:\u001b[0m 82399/120000 (69%)\n",
            "\n",
            "Train Epoch: 12 [0/600000 (0%)]\tLoss: 0.927212\n",
            "Train Epoch: 12 [100000/600000 (21%)]\tLoss: 0.758155\n",
            "Train Epoch: 12 [200000/600000 (42%)]\tLoss: 0.666791\n",
            "Train Epoch: 12 [300000/600000 (62%)]\tLoss: 0.987944\n",
            "Train Epoch: 12 [400000/600000 (83%)]\tLoss: 0.522200\n",
            "Test Accuracy: 0.6886666666666666\n",
            "\n",
            "Test set: Average loss: 0.0000,\u001b[1m \u001b[4m Accuracy:\u001b[0m 82613/120000 (69%)\n",
            "\n",
            "Train Epoch: 13 [0/600000 (0%)]\tLoss: 0.607836\n",
            "Train Epoch: 13 [100000/600000 (21%)]\tLoss: 0.686479\n",
            "Train Epoch: 13 [200000/600000 (42%)]\tLoss: 0.788218\n",
            "Train Epoch: 13 [300000/600000 (62%)]\tLoss: 0.611417\n",
            "Train Epoch: 13 [400000/600000 (83%)]\tLoss: 0.814000\n",
            "Test Accuracy: 0.6910645833333333\n",
            "\n",
            "Test set: Average loss: 0.0000,\u001b[1m \u001b[4m Accuracy:\u001b[0m 82320/120000 (69%)\n",
            "\n",
            "Train Epoch: 14 [0/600000 (0%)]\tLoss: 0.814782\n",
            "Train Epoch: 14 [100000/600000 (21%)]\tLoss: 0.703747\n",
            "Train Epoch: 14 [200000/600000 (42%)]\tLoss: 0.738289\n",
            "Train Epoch: 14 [300000/600000 (62%)]\tLoss: 0.710533\n",
            "Train Epoch: 14 [400000/600000 (83%)]\tLoss: 0.782170\n",
            "Test Accuracy: 0.69389375\n",
            "\n",
            "Test set: Average loss: 0.0000,\u001b[1m \u001b[4m Accuracy:\u001b[0m 83078/120000 (69%)\n",
            "\n",
            "Train Epoch: 15 [0/600000 (0%)]\tLoss: 0.601068\n",
            "Train Epoch: 15 [100000/600000 (21%)]\tLoss: 0.552819\n",
            "Train Epoch: 15 [200000/600000 (42%)]\tLoss: 0.606651\n",
            "Train Epoch: 15 [300000/600000 (62%)]\tLoss: 0.720378\n",
            "Train Epoch: 15 [400000/600000 (83%)]\tLoss: 0.689536\n",
            "Test Accuracy: 0.6948645833333333\n",
            "\n",
            "Test set: Average loss: 0.0000,\u001b[1m \u001b[4m Accuracy:\u001b[0m 83518/120000 (70%)\n",
            "\n",
            "Train Epoch: 16 [0/600000 (0%)]\tLoss: 0.664333\n",
            "Train Epoch: 16 [100000/600000 (21%)]\tLoss: 0.727070\n",
            "Train Epoch: 16 [200000/600000 (42%)]\tLoss: 0.744779\n",
            "Train Epoch: 16 [300000/600000 (62%)]\tLoss: 0.737960\n",
            "Train Epoch: 16 [400000/600000 (83%)]\tLoss: 0.778545\n",
            "Test Accuracy: 0.69698125\n",
            "\n",
            "Test set: Average loss: 0.0000,\u001b[1m \u001b[4m Accuracy:\u001b[0m 83994/120000 (70%)\n",
            "\n",
            "Train Epoch: 17 [0/600000 (0%)]\tLoss: 0.770489\n",
            "Train Epoch: 17 [100000/600000 (21%)]\tLoss: 0.649121\n",
            "Train Epoch: 17 [200000/600000 (42%)]\tLoss: 0.704000\n",
            "Train Epoch: 17 [300000/600000 (62%)]\tLoss: 0.677361\n",
            "Train Epoch: 17 [400000/600000 (83%)]\tLoss: 0.725480\n",
            "Test Accuracy: 0.6981083333333333\n",
            "\n",
            "Test set: Average loss: 0.0000,\u001b[1m \u001b[4m Accuracy:\u001b[0m 84025/120000 (70%)\n",
            "\n",
            "Train Epoch: 18 [0/600000 (0%)]\tLoss: 0.670799\n",
            "Train Epoch: 18 [100000/600000 (21%)]\tLoss: 0.703797\n",
            "Train Epoch: 18 [200000/600000 (42%)]\tLoss: 0.734138\n",
            "Train Epoch: 18 [300000/600000 (62%)]\tLoss: 0.653431\n",
            "Train Epoch: 18 [400000/600000 (83%)]\tLoss: 0.706764\n",
            "Test Accuracy: 0.70075\n",
            "\n",
            "Test set: Average loss: 0.0000,\u001b[1m \u001b[4m Accuracy:\u001b[0m 84281/120000 (70%)\n",
            "\n",
            "Train Epoch: 19 [0/600000 (0%)]\tLoss: 0.702643\n",
            "Train Epoch: 19 [100000/600000 (21%)]\tLoss: 0.853769\n",
            "Train Epoch: 19 [200000/600000 (42%)]\tLoss: 0.896080\n",
            "Train Epoch: 19 [300000/600000 (62%)]\tLoss: 0.654817\n",
            "Train Epoch: 19 [400000/600000 (83%)]\tLoss: 0.687278\n",
            "Test Accuracy: 0.7010770833333333\n",
            "\n",
            "Test set: Average loss: 0.0000,\u001b[1m \u001b[4m Accuracy:\u001b[0m 84097/120000 (70%)\n",
            "\n",
            "Train Epoch: 20 [0/600000 (0%)]\tLoss: 0.692965\n",
            "Train Epoch: 20 [100000/600000 (21%)]\tLoss: 0.586837\n",
            "Train Epoch: 20 [200000/600000 (42%)]\tLoss: 0.820403\n",
            "Train Epoch: 20 [300000/600000 (62%)]\tLoss: 0.839581\n",
            "Train Epoch: 20 [400000/600000 (83%)]\tLoss: 0.561773\n",
            "Test Accuracy: 0.70225\n",
            "\n",
            "Test set: Average loss: 0.0000,\u001b[1m \u001b[4m Accuracy:\u001b[0m 83988/120000 (70%)\n",
            "\n",
            "Train Epoch: 21 [0/600000 (0%)]\tLoss: 0.828341\n",
            "Train Epoch: 21 [100000/600000 (21%)]\tLoss: 0.577899\n",
            "Train Epoch: 21 [200000/600000 (42%)]\tLoss: 0.556740\n",
            "Train Epoch: 21 [300000/600000 (62%)]\tLoss: 0.586809\n",
            "Train Epoch: 21 [400000/600000 (83%)]\tLoss: 0.638857\n",
            "Test Accuracy: 0.7038458333333333\n",
            "\n",
            "Test set: Average loss: 0.0000,\u001b[1m \u001b[4m Accuracy:\u001b[0m 84514/120000 (70%)\n",
            "\n",
            "Train Epoch: 22 [0/600000 (0%)]\tLoss: 0.716541\n",
            "Train Epoch: 22 [100000/600000 (21%)]\tLoss: 0.741103\n",
            "Train Epoch: 22 [200000/600000 (42%)]\tLoss: 0.701294\n",
            "Train Epoch: 22 [300000/600000 (62%)]\tLoss: 0.806740\n",
            "Train Epoch: 22 [400000/600000 (83%)]\tLoss: 0.737607\n",
            "Test Accuracy: 0.7048166666666666\n",
            "\n",
            "Test set: Average loss: 0.0000,\u001b[1m \u001b[4m Accuracy:\u001b[0m 84545/120000 (70%)\n",
            "\n",
            "Train Epoch: 23 [0/600000 (0%)]\tLoss: 0.743521\n",
            "Train Epoch: 23 [100000/600000 (21%)]\tLoss: 0.626702\n",
            "Train Epoch: 23 [200000/600000 (42%)]\tLoss: 0.599595\n",
            "Train Epoch: 23 [300000/600000 (62%)]\tLoss: 0.714796\n",
            "Train Epoch: 23 [400000/600000 (83%)]\tLoss: 0.655797\n",
            "Test Accuracy: 0.7056145833333334\n",
            "\n",
            "Test set: Average loss: 0.0000,\u001b[1m \u001b[4m Accuracy:\u001b[0m 84984/120000 (71%)\n",
            "\n",
            "Train Epoch: 24 [0/600000 (0%)]\tLoss: 0.621105\n",
            "Train Epoch: 24 [100000/600000 (21%)]\tLoss: 0.673576\n",
            "Train Epoch: 24 [200000/600000 (42%)]\tLoss: 0.685128\n",
            "Train Epoch: 24 [300000/600000 (62%)]\tLoss: 0.764296\n",
            "Train Epoch: 24 [400000/600000 (83%)]\tLoss: 0.752423\n",
            "Test Accuracy: 0.7061770833333333\n",
            "\n",
            "Test set: Average loss: 0.0000,\u001b[1m \u001b[4m Accuracy:\u001b[0m 84446/120000 (70%)\n",
            "\n",
            "Train Epoch: 25 [0/600000 (0%)]\tLoss: 0.679105\n",
            "Train Epoch: 25 [100000/600000 (21%)]\tLoss: 0.778359\n",
            "Train Epoch: 25 [200000/600000 (42%)]\tLoss: 0.584497\n",
            "Train Epoch: 25 [300000/600000 (62%)]\tLoss: 0.653484\n",
            "Train Epoch: 25 [400000/600000 (83%)]\tLoss: 0.517782\n",
            "Test Accuracy: 0.70749375\n",
            "\n",
            "Test set: Average loss: 0.0000,\u001b[1m \u001b[4m Accuracy:\u001b[0m 84434/120000 (70%)\n",
            "\n",
            "Train Epoch: 26 [0/600000 (0%)]\tLoss: 0.760105\n",
            "Train Epoch: 26 [100000/600000 (21%)]\tLoss: 0.647758\n",
            "Train Epoch: 26 [200000/600000 (42%)]\tLoss: 0.632570\n",
            "Train Epoch: 26 [300000/600000 (62%)]\tLoss: 0.627896\n",
            "Train Epoch: 26 [400000/600000 (83%)]\tLoss: 0.720283\n",
            "Test Accuracy: 0.7079375\n",
            "\n",
            "Test set: Average loss: 0.0000,\u001b[1m \u001b[4m Accuracy:\u001b[0m 84889/120000 (71%)\n",
            "\n",
            "Train Epoch: 27 [0/600000 (0%)]\tLoss: 0.700326\n",
            "Train Epoch: 27 [100000/600000 (21%)]\tLoss: 0.713403\n",
            "Train Epoch: 27 [200000/600000 (42%)]\tLoss: 0.756680\n",
            "Train Epoch: 27 [300000/600000 (62%)]\tLoss: 0.591205\n",
            "Train Epoch: 27 [400000/600000 (83%)]\tLoss: 0.702643\n",
            "Test Accuracy: 0.7087125\n",
            "\n",
            "Test set: Average loss: 0.0000,\u001b[1m \u001b[4m Accuracy:\u001b[0m 85398/120000 (71%)\n",
            "\n",
            "Train Epoch: 28 [0/600000 (0%)]\tLoss: 0.685319\n",
            "Train Epoch: 28 [100000/600000 (21%)]\tLoss: 0.607407\n",
            "Train Epoch: 28 [200000/600000 (42%)]\tLoss: 0.725223\n",
            "Train Epoch: 28 [300000/600000 (62%)]\tLoss: 0.704007\n",
            "Train Epoch: 28 [400000/600000 (83%)]\tLoss: 0.603821\n",
            "Test Accuracy: 0.71005\n",
            "\n",
            "Test set: Average loss: 0.0000,\u001b[1m \u001b[4m Accuracy:\u001b[0m 85396/120000 (71%)\n",
            "\n",
            "Train Epoch: 29 [0/600000 (0%)]\tLoss: 0.665159\n",
            "Train Epoch: 29 [100000/600000 (21%)]\tLoss: 0.598630\n",
            "Train Epoch: 29 [200000/600000 (42%)]\tLoss: 0.701110\n",
            "Train Epoch: 29 [300000/600000 (62%)]\tLoss: 0.631338\n",
            "Train Epoch: 29 [400000/600000 (83%)]\tLoss: 0.747306\n",
            "Test Accuracy: 0.7105166666666667\n",
            "\n",
            "Test set: Average loss: 0.0000,\u001b[1m \u001b[4m Accuracy:\u001b[0m 84744/120000 (71%)\n",
            "\n",
            "Train Epoch: 30 [0/600000 (0%)]\tLoss: 0.673159\n",
            "Train Epoch: 30 [100000/600000 (21%)]\tLoss: 0.711262\n",
            "Train Epoch: 30 [200000/600000 (42%)]\tLoss: 0.600255\n",
            "Train Epoch: 30 [300000/600000 (62%)]\tLoss: 0.712998\n",
            "Train Epoch: 30 [400000/600000 (83%)]\tLoss: 0.579198\n",
            "Test Accuracy: 0.7110145833333333\n",
            "\n",
            "Test set: Average loss: 0.0000,\u001b[1m \u001b[4m Accuracy:\u001b[0m 85001/120000 (71%)\n",
            "\n",
            "Train Epoch: 31 [0/600000 (0%)]\tLoss: 0.745698\n",
            "Train Epoch: 31 [100000/600000 (21%)]\tLoss: 0.821266\n",
            "Train Epoch: 31 [200000/600000 (42%)]\tLoss: 0.606238\n",
            "Train Epoch: 31 [300000/600000 (62%)]\tLoss: 0.784568\n",
            "Train Epoch: 31 [400000/600000 (83%)]\tLoss: 0.656934\n",
            "Test Accuracy: 0.7110583333333333\n",
            "\n",
            "Test set: Average loss: 0.0000,\u001b[1m \u001b[4m Accuracy:\u001b[0m 85330/120000 (71%)\n",
            "\n",
            "Train Epoch: 32 [0/600000 (0%)]\tLoss: 0.704314\n",
            "Train Epoch: 32 [100000/600000 (21%)]\tLoss: 0.767937\n",
            "Train Epoch: 32 [200000/600000 (42%)]\tLoss: 0.702874\n",
            "Train Epoch: 32 [300000/600000 (62%)]\tLoss: 0.625175\n",
            "Train Epoch: 32 [400000/600000 (83%)]\tLoss: 0.853939\n",
            "Test Accuracy: 0.71195625\n",
            "\n",
            "Test set: Average loss: 0.0000,\u001b[1m \u001b[4m Accuracy:\u001b[0m 85276/120000 (71%)\n",
            "\n",
            "Train Epoch: 33 [0/600000 (0%)]\tLoss: 0.733151\n",
            "Train Epoch: 33 [100000/600000 (21%)]\tLoss: 0.781496\n",
            "Train Epoch: 33 [200000/600000 (42%)]\tLoss: 0.963069\n",
            "Train Epoch: 33 [300000/600000 (62%)]\tLoss: 0.658043\n",
            "Train Epoch: 33 [400000/600000 (83%)]\tLoss: 0.699979\n",
            "Test Accuracy: 0.7127854166666666\n",
            "\n",
            "Test set: Average loss: 0.0000,\u001b[1m \u001b[4m Accuracy:\u001b[0m 85169/120000 (71%)\n",
            "\n",
            "Train Epoch: 34 [0/600000 (0%)]\tLoss: 0.712908\n",
            "Train Epoch: 34 [100000/600000 (21%)]\tLoss: 0.755372\n",
            "Train Epoch: 34 [200000/600000 (42%)]\tLoss: 0.717817\n",
            "Train Epoch: 34 [300000/600000 (62%)]\tLoss: 0.732727\n",
            "Train Epoch: 34 [400000/600000 (83%)]\tLoss: 0.729898\n",
            "Test Accuracy: 0.7127\n",
            "\n",
            "Test set: Average loss: 0.0000,\u001b[1m \u001b[4m Accuracy:\u001b[0m 85424/120000 (71%)\n",
            "\n",
            "Train Epoch: 35 [0/600000 (0%)]\tLoss: 0.602103\n",
            "Train Epoch: 35 [100000/600000 (21%)]\tLoss: 0.695575\n",
            "Train Epoch: 35 [200000/600000 (42%)]\tLoss: 0.646286\n",
            "Train Epoch: 35 [300000/600000 (62%)]\tLoss: 0.719891\n",
            "Train Epoch: 35 [400000/600000 (83%)]\tLoss: 0.594721\n",
            "Test Accuracy: 0.7133395833333334\n",
            "\n",
            "Test set: Average loss: 0.0000,\u001b[1m \u001b[4m Accuracy:\u001b[0m 85396/120000 (71%)\n",
            "\n",
            "Train Epoch: 36 [0/600000 (0%)]\tLoss: 0.926048\n",
            "Train Epoch: 36 [100000/600000 (21%)]\tLoss: 0.760420\n",
            "Train Epoch: 36 [200000/600000 (42%)]\tLoss: 0.557653\n",
            "Train Epoch: 36 [300000/600000 (62%)]\tLoss: 0.670100\n",
            "Train Epoch: 36 [400000/600000 (83%)]\tLoss: 0.662889\n",
            "Test Accuracy: 0.71415625\n",
            "\n",
            "Test set: Average loss: 0.0000,\u001b[1m \u001b[4m Accuracy:\u001b[0m 85620/120000 (71%)\n",
            "\n",
            "Train Epoch: 37 [0/600000 (0%)]\tLoss: 0.664319\n",
            "Train Epoch: 37 [100000/600000 (21%)]\tLoss: 0.783016\n",
            "Train Epoch: 37 [200000/600000 (42%)]\tLoss: 0.624642\n",
            "Train Epoch: 37 [300000/600000 (62%)]\tLoss: 0.515601\n",
            "Train Epoch: 37 [400000/600000 (83%)]\tLoss: 0.706166\n",
            "Test Accuracy: 0.71386875\n",
            "\n",
            "Test set: Average loss: 0.0000,\u001b[1m \u001b[4m Accuracy:\u001b[0m 85616/120000 (71%)\n",
            "\n",
            "Train Epoch: 38 [0/600000 (0%)]\tLoss: 0.703166\n",
            "Train Epoch: 38 [100000/600000 (21%)]\tLoss: 0.771381\n",
            "Train Epoch: 38 [200000/600000 (42%)]\tLoss: 0.756396\n",
            "Train Epoch: 38 [300000/600000 (62%)]\tLoss: 0.704282\n",
            "Train Epoch: 38 [400000/600000 (83%)]\tLoss: 0.717015\n",
            "Test Accuracy: 0.7145270833333334\n",
            "\n",
            "Test set: Average loss: 0.0000,\u001b[1m \u001b[4m Accuracy:\u001b[0m 84964/120000 (71%)\n",
            "\n",
            "Train Epoch: 39 [0/600000 (0%)]\tLoss: 0.706111\n",
            "Train Epoch: 39 [100000/600000 (21%)]\tLoss: 0.724161\n",
            "Train Epoch: 39 [200000/600000 (42%)]\tLoss: 0.697206\n",
            "Train Epoch: 39 [300000/600000 (62%)]\tLoss: 0.721189\n",
            "Train Epoch: 39 [400000/600000 (83%)]\tLoss: 0.653550\n",
            "Test Accuracy: 0.7148520833333334\n",
            "\n",
            "Test set: Average loss: 0.0000,\u001b[1m \u001b[4m Accuracy:\u001b[0m 85634/120000 (71%)\n",
            "\n",
            "Train Epoch: 40 [0/600000 (0%)]\tLoss: 0.559656\n",
            "Train Epoch: 40 [100000/600000 (21%)]\tLoss: 0.650948\n",
            "Train Epoch: 40 [200000/600000 (42%)]\tLoss: 0.658746\n",
            "Train Epoch: 40 [300000/600000 (62%)]\tLoss: 0.649746\n",
            "Train Epoch: 40 [400000/600000 (83%)]\tLoss: 0.789430\n",
            "Test Accuracy: 0.71543125\n",
            "\n",
            "Test set: Average loss: 0.0000,\u001b[1m \u001b[4m Accuracy:\u001b[0m 86068/120000 (72%)\n",
            "\n",
            "Train Epoch: 41 [0/600000 (0%)]\tLoss: 0.662242\n",
            "Train Epoch: 41 [100000/600000 (21%)]\tLoss: 0.618435\n",
            "Train Epoch: 41 [200000/600000 (42%)]\tLoss: 0.739378\n",
            "Train Epoch: 41 [300000/600000 (62%)]\tLoss: 0.572329\n",
            "Train Epoch: 41 [400000/600000 (83%)]\tLoss: 0.701800\n",
            "Test Accuracy: 0.7152375\n",
            "\n",
            "Test set: Average loss: 0.0000,\u001b[1m \u001b[4m Accuracy:\u001b[0m 85395/120000 (71%)\n",
            "\n",
            "Train Epoch: 42 [0/600000 (0%)]\tLoss: 0.575944\n",
            "Train Epoch: 42 [100000/600000 (21%)]\tLoss: 0.645745\n",
            "Train Epoch: 42 [200000/600000 (42%)]\tLoss: 0.602912\n",
            "Train Epoch: 42 [300000/600000 (62%)]\tLoss: 0.592987\n",
            "Train Epoch: 42 [400000/600000 (83%)]\tLoss: 0.546285\n",
            "Test Accuracy: 0.7161\n",
            "\n",
            "Test set: Average loss: 0.0000,\u001b[1m \u001b[4m Accuracy:\u001b[0m 85780/120000 (71%)\n",
            "\n",
            "Train Epoch: 43 [0/600000 (0%)]\tLoss: 0.806616\n",
            "Train Epoch: 43 [100000/600000 (21%)]\tLoss: 0.669464\n",
            "Train Epoch: 43 [200000/600000 (42%)]\tLoss: 0.675185\n",
            "Train Epoch: 43 [300000/600000 (62%)]\tLoss: 0.796997\n",
            "Train Epoch: 43 [400000/600000 (83%)]\tLoss: 0.671558\n",
            "Test Accuracy: 0.7161875\n",
            "\n",
            "Test set: Average loss: 0.0000,\u001b[1m \u001b[4m Accuracy:\u001b[0m 85749/120000 (71%)\n",
            "\n",
            "Train Epoch: 44 [0/600000 (0%)]\tLoss: 0.748886\n",
            "Train Epoch: 44 [100000/600000 (21%)]\tLoss: 0.597944\n",
            "Train Epoch: 44 [200000/600000 (42%)]\tLoss: 0.698590\n",
            "Train Epoch: 44 [300000/600000 (62%)]\tLoss: 0.842966\n",
            "Train Epoch: 44 [400000/600000 (83%)]\tLoss: 0.750957\n",
            "Test Accuracy: 0.7168479166666667\n",
            "\n",
            "Test set: Average loss: 0.0000,\u001b[1m \u001b[4m Accuracy:\u001b[0m 85638/120000 (71%)\n",
            "\n",
            "Train Epoch: 45 [0/600000 (0%)]\tLoss: 0.696065\n",
            "Train Epoch: 45 [100000/600000 (21%)]\tLoss: 0.786537\n",
            "Train Epoch: 45 [200000/600000 (42%)]\tLoss: 0.767482\n",
            "Train Epoch: 45 [300000/600000 (62%)]\tLoss: 0.606962\n",
            "Train Epoch: 45 [400000/600000 (83%)]\tLoss: 0.602060\n",
            "Test Accuracy: 0.7170458333333334\n",
            "\n",
            "Test set: Average loss: 0.0000,\u001b[1m \u001b[4m Accuracy:\u001b[0m 85582/120000 (71%)\n",
            "\n",
            "Train Epoch: 46 [0/600000 (0%)]\tLoss: 0.854213\n",
            "Train Epoch: 46 [100000/600000 (21%)]\tLoss: 0.759194\n",
            "Train Epoch: 46 [200000/600000 (42%)]\tLoss: 0.688050\n",
            "Train Epoch: 46 [300000/600000 (62%)]\tLoss: 0.639373\n",
            "Train Epoch: 46 [400000/600000 (83%)]\tLoss: 0.628001\n",
            "Test Accuracy: 0.7169479166666667\n",
            "\n",
            "Test set: Average loss: 0.0000,\u001b[1m \u001b[4m Accuracy:\u001b[0m 85665/120000 (71%)\n",
            "\n",
            "Train Epoch: 47 [0/600000 (0%)]\tLoss: 0.714548\n",
            "Train Epoch: 47 [100000/600000 (21%)]\tLoss: 0.704283\n",
            "Train Epoch: 47 [200000/600000 (42%)]\tLoss: 0.622925\n",
            "Train Epoch: 47 [300000/600000 (62%)]\tLoss: 0.572754\n",
            "Train Epoch: 47 [400000/600000 (83%)]\tLoss: 0.551539\n",
            "Test Accuracy: 0.7178583333333334\n",
            "\n",
            "Test set: Average loss: 0.0000,\u001b[1m \u001b[4m Accuracy:\u001b[0m 85430/120000 (71%)\n",
            "\n",
            "Train Epoch: 48 [0/600000 (0%)]\tLoss: 0.804039\n",
            "Train Epoch: 48 [100000/600000 (21%)]\tLoss: 0.682515\n",
            "Train Epoch: 48 [200000/600000 (42%)]\tLoss: 0.395042\n",
            "Train Epoch: 48 [300000/600000 (62%)]\tLoss: 0.638021\n",
            "Train Epoch: 48 [400000/600000 (83%)]\tLoss: 0.663549\n",
            "Test Accuracy: 0.7177291666666666\n",
            "\n",
            "Test set: Average loss: 0.0000,\u001b[1m \u001b[4m Accuracy:\u001b[0m 85810/120000 (72%)\n",
            "\n",
            "Train Epoch: 49 [0/600000 (0%)]\tLoss: 0.614752\n",
            "Train Epoch: 49 [100000/600000 (21%)]\tLoss: 0.699419\n",
            "Train Epoch: 49 [200000/600000 (42%)]\tLoss: 0.676529\n",
            "Train Epoch: 49 [300000/600000 (62%)]\tLoss: 0.668113\n",
            "Train Epoch: 49 [400000/600000 (83%)]\tLoss: 0.701080\n",
            "Test Accuracy: 0.7184416666666666\n",
            "\n",
            "Test set: Average loss: 0.0000,\u001b[1m \u001b[4m Accuracy:\u001b[0m 85900/120000 (72%)\n",
            "\n"
          ],
          "name": "stdout"
        }
      ]
    },
    {
      "cell_type": "markdown",
      "metadata": {
        "id": "agD3Ip7MD-Sr"
      },
      "source": [
        "## Model Accuracy Plot"
      ]
    },
    {
      "cell_type": "code",
      "metadata": {
        "id": "Zqs9Dmt7EFPY",
        "colab": {
          "base_uri": "https://localhost:8080/",
          "height": 295
        },
        "outputId": "c55d1e19-20d2-4a28-b48f-112b97983f54"
      },
      "source": [
        "rcParams['figure.figsize'] = 10, 4\n",
        "import matplotlib.pyplot as plt\n",
        "plt.plot(trainAccuracy)\n",
        "plt.plot(testAccuracy)\n",
        "plt.title('Model Accuracy')\n",
        "plt.ylabel('Accuracy')\n",
        "plt.xlabel('Epoch')\n",
        "plt.legend(['train', 'test'], loc='upper left')\n",
        "plt.show()"
      ],
      "execution_count": null,
      "outputs": [
        {
          "output_type": "display_data",
          "data": {
            "image/png": "[encoded data removed]",
            "text/plain": [
              "<Figure size 720x288 with 1 Axes>"
            ]
          },
          "metadata": {
            "tags": []
          }
        }
      ]
    },
    {
      "cell_type": "markdown",
      "metadata": {
        "id": "JAhUhrHvEKuX"
      },
      "source": [
        "## Model Loss Plot"
      ]
    },
    {
      "cell_type": "code",
      "metadata": {
        "id": "3r4T4_ExEUql",
        "colab": {
          "base_uri": "https://localhost:8080/",
          "height": 295
        },
        "outputId": "df6d8be4-4cd3-4eb4-dc4a-06cb0683a530"
      },
      "source": [
        "rcParams['figure.figsize'] = 10, 4\n",
        "import matplotlib.pyplot as plt\n",
        "trainLoss = np.asarray(trainAccuracy)\n",
        "trainLoss = 1-trainLoss\n",
        "testLoss = np.asarray(testAccuracy)\n",
        "testLoss = 1-testLoss\n",
        "plt.plot(trainLoss)\n",
        "plt.plot(testLoss)\n",
        "plt.title('Model Loss')\n",
        "plt.ylabel('Loss')\n",
        "plt.xlabel('Epoch')\n",
        "plt.legend(['train', 'test'], loc='upper left')\n",
        "plt.show()"
      ],
      "execution_count": null,
      "outputs": [
        {
          "output_type": "display_data",
          "data": {
            "image/png": "[encoded data removed]",
            "text/plain": [
              "<Figure size 720x288 with 1 Axes>"
            ]
          },
          "metadata": {
            "tags": []
          }
        }
      ]
    },
    {
      "cell_type": "markdown",
      "metadata": {
        "id": "iPyAx78cGyXy"
      },
      "source": [
        "## Test Net"
      ]
    },
    {
      "cell_type": "code",
      "metadata": {
        "id": "wKvxStpGG-CU",
        "colab": {
          "base_uri": "https://localhost:8080/",
          "height": 72
        },
        "outputId": "86c52ec3-0ddc-4f63-b9d9-5281092e9097"
      },
      "source": [
        "yTrue,yPred,pred_fnn = fnn.predict(test_loader)"
      ],
      "execution_count": null,
      "outputs": [
        {
          "output_type": "stream",
          "text": [
            "\n",
            "Test set: Average loss: 0.0000,\u001b[1m \u001b[4m Accuracy:\u001b[0m 85900/120000 (72%)\n",
            "\n"
          ],
          "name": "stdout"
        }
      ]
    },
    {
      "cell_type": "markdown",
      "metadata": {
        "id": "grpGZ7eaEafH"
      },
      "source": [
        "## Confusion Matrix"
      ]
    },
    {
      "cell_type": "code",
      "metadata": {
        "id": "_3ry2GIOElBU",
        "colab": {
          "base_uri": "https://localhost:8080/",
          "height": 425
        },
        "outputId": "bdacad7a-1da9-49d5-e926-2d776ea35485"
      },
      "source": [
        "CM = confusion_matrix(yTrue, yPred)\n",
        "from mlxtend.plotting import plot_confusion_matrix\n",
        "fig, ax = plot_confusion_matrix(conf_mat=CM , figsize=(10, 6))\n",
        "print(yDataLabels)\n",
        "x=plt.xticks((0,1,2,3,4,5)  ,yDataLabels)\n",
        "y=plt.yticks((0,1,2,3,4,5),yDataLabels)\n",
        "plt.show()\n",
        "print('yDataLabels ', yDataLabels)"
      ],
      "execution_count": null,
      "outputs": [
        {
          "output_type": "stream",
          "text": [
            "['bike' 'sit' 'stairsdown' 'stairsup' 'stand' 'walk']\n"
          ],
          "name": "stdout"
        },
        {
          "output_type": "display_data",
          "data": {
            "image/png": "[encoded data removed]",
            "text/plain": [
              "<Figure size 720x432 with 1 Axes>"
            ]
          },
          "metadata": {
            "tags": []
          }
        },
        {
          "output_type": "stream",
          "text": [
            "yDataLabels  ['bike' 'sit' 'stairsdown' 'stairsup' 'stand' 'walk']\n"
          ],
          "name": "stdout"
        }
      ]
    },
    {
      "cell_type": "markdown",
      "metadata": {
        "id": "dCbzNZHijD4K"
      },
      "source": [
        "# Recurrent Neural Network"
      ]
    },
    {
      "cell_type": "markdown",
      "metadata": {
        "id": "C58chGJ7DTOn"
      },
      "source": [
        "### RNN Net"
      ]
    },
    {
      "cell_type": "code",
      "metadata": {
        "id": "o_-M2P-2V4VV"
      },
      "source": [
        "downSampledData,yData,yDataLabels = preProcessData(data1,100000)\n",
        "batch_size = 1000\n",
        "test_split = .2\n",
        "shuffle_dataset = True\n",
        "random_seed= 42\n",
        "\n",
        "# Creating data indices for training and validation splits:\n",
        "dataset_size = len(downSampledData)\n",
        "indices = list(range(dataset_size))\n",
        "split = int(np.floor(test_split * dataset_size))\n",
        "if shuffle_dataset :\n",
        "    np.random.seed(random_seed)\n",
        "    np.random.shuffle(indices)\n",
        "train_indices, test_indices = indices[split:], indices[:split]\n",
        "\n",
        "# Creating PT data samplers and loaders:\n",
        "train_sampler = SubsetRandomSampler(train_indices)\n",
        "valid_sampler = SubsetRandomSampler(test_indices)\n",
        "\n",
        "downSampledData=downSampledData.astype(float)\n",
        "downSampledData = torch.from_numpy(downSampledData).float()\n",
        "\n",
        "\n",
        "train_loader = torch.utils.data.DataLoader(downSampledData,batch_size=batch_size,sampler=train_sampler)\n",
        "test_loader = torch.utils.data.DataLoader(downSampledData, batch_size=batch_size,sampler=valid_sampler)"
      ],
      "execution_count": null,
      "outputs": []
    },
    {
      "cell_type": "markdown",
      "metadata": {
        "id": "x6EabYmhlk-v"
      },
      "source": [
        "## Train and Test Neural Network for different values of epoch"
      ]
    },
    {
      "cell_type": "markdown",
      "metadata": {
        "id": "lUCvBTpqloa6"
      },
      "source": [
        "**Hyper Parameters**\n",
        "\n",
        "1.   No of Neurons = 10\n",
        "2.   BatchSize = 1000\n",
        "3.   Epoch = 50\n",
        "4.   Learning Rate = 0.01"
      ]
    },
    {
      "cell_type": "code",
      "metadata": {
        "id": "N0Z52W-AmVqn"
      },
      "source": [
        "noOfNeurons = 10\n",
        "epochs = 50\n",
        "noOfInputs = 4"
      ],
      "execution_count": null,
      "outputs": []
    },
    {
      "cell_type": "code",
      "metadata": {
        "id": "BVuSCOS4-GmR",
        "colab": {
          "base_uri": "https://localhost:8080/",
          "height": 1000
        },
        "outputId": "8c7984b6-ca4c-4bc7-fb7f-733056b7646a"
      },
      "source": [
        "rnn = RecursiveNeuralNetwork(noOfInputs,noOfNeurons,epochs)\n",
        "rtrain_acc,rtest_acc,rloss = rnn.train(train_loader,test_loader)\n",
        "RNN_acc,RNN_targ,RNN_ypred = rnn.predict(test_loader)"
      ],
      "execution_count": null,
      "outputs": [
        {
          "output_type": "stream",
          "text": [
            "Epoch Value:  0\n",
            "Epoch:  0 | Loss: 1.3451 | Train Accuracy: 43.49\n",
            "Epoch Value:  1\n",
            "Epoch:  1 | Loss: 1.2330 | Train Accuracy: 47.19\n",
            "Epoch Value:  2\n",
            "Epoch:  2 | Loss: 1.2075 | Train Accuracy: 47.79\n",
            "Epoch Value:  3\n",
            "Epoch:  3 | Loss: 1.1601 | Train Accuracy: 49.66\n",
            "Epoch Value:  4\n",
            "Epoch:  4 | Loss: 1.1062 | Train Accuracy: 51.98\n",
            "Epoch Value:  5\n",
            "Epoch:  5 | Loss: 1.0920 | Train Accuracy: 53.08\n",
            "Epoch Value:  6\n",
            "Epoch:  6 | Loss: 1.0824 | Train Accuracy: 53.71\n",
            "Epoch Value:  7\n",
            "Epoch:  7 | Loss: 1.0632 | Train Accuracy: 54.67\n",
            "Epoch Value:  8\n",
            "Epoch:  8 | Loss: 1.0528 | Train Accuracy: 54.89\n",
            "Epoch Value:  9\n",
            "Epoch:  9 | Loss: 1.0475 | Train Accuracy: 55.09\n",
            "Epoch Value:  10\n",
            "Epoch:  10 | Loss: 1.0429 | Train Accuracy: 55.30\n",
            "Epoch Value:  11\n",
            "Epoch:  11 | Loss: 1.0379 | Train Accuracy: 55.47\n",
            "Epoch Value:  12\n",
            "Epoch:  12 | Loss: 1.0352 | Train Accuracy: 55.61\n",
            "Epoch Value:  13\n",
            "Epoch:  13 | Loss: 1.0325 | Train Accuracy: 55.73\n",
            "Epoch Value:  14\n",
            "Epoch:  14 | Loss: 1.0291 | Train Accuracy: 56.02\n",
            "Epoch Value:  15\n",
            "Epoch:  15 | Loss: 1.0269 | Train Accuracy: 56.24\n",
            "Epoch Value:  16\n",
            "Epoch:  16 | Loss: 1.0255 | Train Accuracy: 56.32\n",
            "Epoch Value:  17\n",
            "Epoch:  17 | Loss: 1.0247 | Train Accuracy: 56.35\n",
            "Epoch Value:  18\n",
            "Epoch:  18 | Loss: 1.0240 | Train Accuracy: 56.38\n",
            "Epoch Value:  19\n",
            "Epoch:  19 | Loss: 1.0230 | Train Accuracy: 56.44\n",
            "Epoch Value:  20\n",
            "Epoch:  20 | Loss: 1.0230 | Train Accuracy: 56.37\n",
            "Epoch Value:  21\n",
            "Epoch:  21 | Loss: 1.0218 | Train Accuracy: 56.45\n",
            "Epoch Value:  22\n",
            "Epoch:  22 | Loss: 1.0216 | Train Accuracy: 56.50\n",
            "Epoch Value:  23\n",
            "Epoch:  23 | Loss: 1.0214 | Train Accuracy: 56.50\n",
            "Epoch Value:  24\n",
            "Epoch:  24 | Loss: 1.0210 | Train Accuracy: 56.55\n",
            "Epoch Value:  25\n",
            "Epoch:  25 | Loss: 1.0203 | Train Accuracy: 56.59\n",
            "Epoch Value:  26\n",
            "Epoch:  26 | Loss: 1.0197 | Train Accuracy: 56.60\n",
            "Epoch Value:  27\n",
            "Epoch:  27 | Loss: 1.0200 | Train Accuracy: 56.64\n",
            "Epoch Value:  28\n",
            "Epoch:  28 | Loss: 1.0190 | Train Accuracy: 56.72\n",
            "Epoch Value:  29\n",
            "Epoch:  29 | Loss: 1.0183 | Train Accuracy: 56.52\n",
            "Epoch Value:  30\n",
            "Epoch:  30 | Loss: 1.0138 | Train Accuracy: 56.52\n",
            "Epoch Value:  31\n",
            "Epoch:  31 | Loss: 1.0116 | Train Accuracy: 56.66\n",
            "Epoch Value:  32\n",
            "Epoch:  32 | Loss: 1.0111 | Train Accuracy: 56.63\n",
            "Epoch Value:  33\n",
            "Epoch:  33 | Loss: 1.0093 | Train Accuracy: 56.81\n",
            "Epoch Value:  34\n",
            "Epoch:  34 | Loss: 1.0087 | Train Accuracy: 56.79\n",
            "Epoch Value:  35\n",
            "Epoch:  35 | Loss: 1.0074 | Train Accuracy: 56.88\n",
            "Epoch Value:  36\n",
            "Epoch:  36 | Loss: 1.0070 | Train Accuracy: 56.83\n",
            "Epoch Value:  37\n",
            "Epoch:  37 | Loss: 1.0068 | Train Accuracy: 56.88\n",
            "Epoch Value:  38\n",
            "Epoch:  38 | Loss: 1.0059 | Train Accuracy: 56.89\n",
            "Epoch Value:  39\n",
            "Epoch:  39 | Loss: 1.0053 | Train Accuracy: 56.95\n",
            "Epoch Value:  40\n",
            "Epoch:  40 | Loss: 1.0046 | Train Accuracy: 56.91\n",
            "Epoch Value:  41\n",
            "Epoch:  41 | Loss: 1.0047 | Train Accuracy: 56.92\n",
            "Epoch Value:  42\n",
            "Epoch:  42 | Loss: 1.0037 | Train Accuracy: 57.05\n",
            "Epoch Value:  43\n",
            "Epoch:  43 | Loss: 1.0038 | Train Accuracy: 56.97\n",
            "Epoch Value:  44\n",
            "Epoch:  44 | Loss: 1.0036 | Train Accuracy: 56.99\n",
            "Epoch Value:  45\n",
            "Epoch:  45 | Loss: 1.0031 | Train Accuracy: 56.93\n",
            "Epoch Value:  46\n",
            "Epoch:  46 | Loss: 1.0032 | Train Accuracy: 56.97\n",
            "Epoch Value:  47\n",
            "Epoch:  47 | Loss: 1.0024 | Train Accuracy: 56.98\n",
            "Epoch Value:  48\n",
            "Epoch:  48 | Loss: 1.0024 | Train Accuracy: 56.98\n",
            "Epoch Value:  49\n",
            "Epoch:  49 | Loss: 1.0023 | Train Accuracy: 57.01\n"
          ],
          "name": "stdout"
        }
      ]
    },
    {
      "cell_type": "markdown",
      "metadata": {
        "id": "0oz_XEtrlVzm"
      },
      "source": [
        "## Test Net"
      ]
    },
    {
      "cell_type": "code",
      "metadata": {
        "id": "TDfSJA5jadCo"
      },
      "source": [
        "RNN_acc,RNN_targ,RNN_ypred = rnn.predict(test_loader)"
      ],
      "execution_count": null,
      "outputs": []
    },
    {
      "cell_type": "code",
      "metadata": {
        "id": "k5mDEIkTaei6",
        "colab": {
          "base_uri": "https://localhost:8080/",
          "height": 35
        },
        "outputId": "0cf32b08-348f-4c2b-e9e3-6b17123c2e9b"
      },
      "source": [
        "print(RNN_acc)"
      ],
      "execution_count": null,
      "outputs": [
        {
          "output_type": "stream",
          "text": [
            "56.22083333333333\n"
          ],
          "name": "stdout"
        }
      ]
    },
    {
      "cell_type": "markdown",
      "metadata": {
        "id": "Db4tHRsZlJuA"
      },
      "source": [
        "## Confusion Matrix"
      ]
    },
    {
      "cell_type": "code",
      "metadata": {
        "id": "R7tX1MUjh1iX",
        "colab": {
          "base_uri": "https://localhost:8080/",
          "height": 425
        },
        "outputId": "a0380152-4ef5-4ec4-d6ec-0918070404d2"
      },
      "source": [
        "import matplotlib.pyplot as plt\n",
        "CM = confusion_matrix(RNN_targ, RNN_ypred)\n",
        "from mlxtend.plotting import plot_confusion_matrix\n",
        "fig, ax = plot_confusion_matrix(conf_mat=CM , figsize=(10, 6))\n",
        "print(yDataLabels)\n",
        "x=plt.xticks((0,1,2,3,4,5)  ,yDataLabels)\n",
        "y=plt.yticks((0,1,2,3,4,5),yDataLabels)\n",
        "plt.show()\n",
        "print('yDataLabels ', yDataLabels)"
      ],
      "execution_count": null,
      "outputs": [
        {
          "output_type": "stream",
          "text": [
            "['bike' 'sit' 'stairsdown' 'stairsup' 'stand' 'walk']\n"
          ],
          "name": "stdout"
        },
        {
          "output_type": "display_data",
          "data": {
            "image/png": "[encoded data removed]",
            "text/plain": [
              "<Figure size 720x432 with 1 Axes>"
            ]
          },
          "metadata": {
            "tags": []
          }
        },
        {
          "output_type": "stream",
          "text": [
            "yDataLabels  ['bike' 'sit' 'stairsdown' 'stairsup' 'stand' 'walk']\n"
          ],
          "name": "stdout"
        }
      ]
    }
  ]
}